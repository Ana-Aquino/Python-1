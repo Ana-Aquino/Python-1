{
  "nbformat": 4,
  "nbformat_minor": 0,
  "metadata": {
    "colab": {
      "name": "Untitled0.ipynb",
      "provenance": [],
      "authorship_tag": "ABX9TyMxZKsyV/3T8UV/CIcKEYCh",
      "include_colab_link": true
    },
    "kernelspec": {
      "name": "python3",
      "display_name": "Python 3"
    },
    "language_info": {
      "name": "python"
    }
  },
  "cells": [
    {
      "cell_type": "markdown",
      "metadata": {
        "id": "view-in-github",
        "colab_type": "text"
      },
      "source": [
        "<a href=\"https://colab.research.google.com/github/Ana-Aquino/Python-1/blob/main/Untitled0.ipynb\" target=\"_parent\"><img src=\"https://colab.research.google.com/assets/colab-badge.svg\" alt=\"Open In Colab\"/></a>"
      ]
    },
    {
      "cell_type": "code",
      "source": [
        "\n",
        "vendas = [1000,450,300,920,600]\n",
        "total= 0\n",
        "\n",
        "for i in vendas:\n",
        "  total += i\n",
        "print(total)\n",
        "\n",
        "\n",
        "cores = {'verde': 'green', 'preto': 'black', 'azul': 'blue'}\n",
        "for i in cores:\n",
        "   print(i, ':', cores[i])\n"
      ],
      "metadata": {
        "id": "qycWxXYvc9N8",
        "colab": {
          "base_uri": "https://localhost:8080/"
        },
        "outputId": "ad72abcf-c04c-4d55-b85e-123c036553a0"
      },
      "execution_count": 8,
      "outputs": [
        {
          "output_type": "stream",
          "name": "stdout",
          "text": [
            "3270\n",
            "verde : green\n",
            "preto : black\n",
            "azul : blue\n"
          ]
        }
      ]
    }
  ]
}