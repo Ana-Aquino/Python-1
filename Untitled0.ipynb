{
  "nbformat": 4,
  "nbformat_minor": 0,
  "metadata": {
    "colab": {
      "name": "Untitled0.ipynb",
      "provenance": [],
      "authorship_tag": "ABX9TyMaRmcxf/DM9Rw6FyDOlsXC",
      "include_colab_link": true
    },
    "kernelspec": {
      "name": "python3",
      "display_name": "Python 3"
    },
    "language_info": {
      "name": "python"
    }
  },
  "cells": [
    {
      "cell_type": "markdown",
      "metadata": {
        "id": "view-in-github",
        "colab_type": "text"
      },
      "source": [
        "<a href=\"https://colab.research.google.com/github/Ana-Aquino/Python-1/blob/main/Untitled0.ipynb\" target=\"_parent\"><img src=\"https://colab.research.google.com/assets/colab-badge.svg\" alt=\"Open In Colab\"/></a>"
      ]
    },
    {
      "cell_type": "code",
      "execution_count": 8,
      "metadata": {
        "colab": {
          "base_uri": "https://localhost:8080/"
        },
        "id": "ow9cAw83qYax",
        "outputId": "39021736-d613-4731-d05e-81520f24f1ad"
      },
      "outputs": [
        {
          "output_type": "stream",
          "name": "stdout",
          "text": [
            "O meu primeiro programa em Python\n",
            "O resultado de 2+3 é:5\n",
            "Fim do programa\n"
          ]
        }
      ],
      "source": [
        "print(\"O meu primeiro programa em Python\")\n",
        "print(\"O resultado de 2+3 é:5\")\n",
        "print(\"Fim do programa\")\n"
      ]
    }
  ]
}