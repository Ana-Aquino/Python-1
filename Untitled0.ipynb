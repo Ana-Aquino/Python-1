{
  "nbformat": 4,
  "nbformat_minor": 0,
  "metadata": {
    "colab": {
      "name": "Untitled0.ipynb",
      "provenance": [],
      "authorship_tag": "ABX9TyMTsPJE15KhRfZjB/LU9Dnd",
      "include_colab_link": true
    },
    "kernelspec": {
      "name": "python3",
      "display_name": "Python 3"
    },
    "language_info": {
      "name": "python"
    }
  },
  "cells": [
    {
      "cell_type": "markdown",
      "metadata": {
        "id": "view-in-github",
        "colab_type": "text"
      },
      "source": [
        "<a href=\"https://colab.research.google.com/github/Ana-Aquino/Python-1/blob/main/Untitled0.ipynb\" target=\"_parent\"><img src=\"https://colab.research.google.com/assets/colab-badge.svg\" alt=\"Open In Colab\"/></a>"
      ]
    },
    {
      "cell_type": "code",
      "execution_count": 28,
      "metadata": {
        "colab": {
          "base_uri": "https://localhost:8080/"
        },
        "id": "ow9cAw83qYax",
        "outputId": "b7cafb67-5030-411f-8c16-bb8c5a91c009"
      },
      "outputs": [
        {
          "output_type": "stream",
          "name": "stdout",
          "text": [
            "digite o peso da primeira prova1\n",
            "digite o peso da segunda prova1.5\n",
            "digite a nota da primeira prova8.0\n",
            "digite a nota da segunda prova9.0\n",
            "A media do aluno é: 8.6\n"
          ]
        }
      ],
      "source": [
        "peso1 = float(input('digite o peso da primeira prova' ))\n",
        "peso2 = float(input('digite o peso da segunda prova'))\n",
        "nota1 = float(input('digite a nota da primeira prova'))\n",
        "nota2 = float(input('digite a nota da segunda prova'))\n",
        "\n",
        "media = ((peso1 * nota1) + (peso2 * nota2)) / (peso1 + peso2)\n",
        "print('A media do aluno é:',media)"
      ]
    }
  ]
}