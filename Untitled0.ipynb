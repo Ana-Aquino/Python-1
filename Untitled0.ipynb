{
  "nbformat": 4,
  "nbformat_minor": 0,
  "metadata": {
    "colab": {
      "name": "Untitled0.ipynb",
      "provenance": [],
      "authorship_tag": "ABX9TyOVN62NmoyoR/KNqIULvqaq",
      "include_colab_link": true
    },
    "kernelspec": {
      "name": "python3",
      "display_name": "Python 3"
    },
    "language_info": {
      "name": "python"
    }
  },
  "cells": [
    {
      "cell_type": "markdown",
      "metadata": {
        "id": "view-in-github",
        "colab_type": "text"
      },
      "source": [
        "<a href=\"https://colab.research.google.com/github/Ana-Aquino/Python-1/blob/main/Untitled0.ipynb\" target=\"_parent\"><img src=\"https://colab.research.google.com/assets/colab-badge.svg\" alt=\"Open In Colab\"/></a>"
      ]
    },
    {
      "cell_type": "code",
      "execution_count": 27,
      "metadata": {
        "colab": {
          "base_uri": "https://localhost:8080/"
        },
        "id": "ow9cAw83qYax",
        "outputId": "d3e06e5e-3160-4e13-bc1e-003de6d1e63f"
      },
      "outputs": [
        {
          "output_type": "stream",
          "name": "stdout",
          "text": [
            "Eu tenho 30 anos\n"
          ]
        },
        {
          "output_type": "execute_result",
          "data": {
            "text/plain": [
              "int"
            ]
          },
          "metadata": {},
          "execution_count": 27
        }
      ],
      "source": [
        "minha_idade = 30\n",
        "minha_idade\n",
        "print('Eu tenho', minha_idade, 'anos')\n",
        "taxaUSD = 3.20\n",
        "300 / taxaUSD \n",
        "meu_nome = 'Ana'\n",
        "taxaUSD = 'alta'\n",
        "taxaUSD\n",
        "type(taxaUSD)\n",
        "taxaUSD = 3.20\n",
        "type(taxaUSD)\n",
        "type(minha_idade)\n"
      ]
    }
  ]
}